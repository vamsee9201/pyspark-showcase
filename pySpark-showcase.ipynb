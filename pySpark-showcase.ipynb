{
 "cells": [
  {
   "cell_type": "code",
   "execution_count": 1,
   "id": "486b9f23",
   "metadata": {},
   "outputs": [
    {
     "name": "stderr",
     "output_type": "stream",
     "text": [
      "/Users/vamseekrishna/Desktop/pyspark-showcase/pyspark-showcase/lib/python3.10/site-packages/pyspark/pandas/__init__.py:50: UserWarning: 'PYARROW_IGNORE_TIMEZONE' environment variable was not set. It is required to set this environment variable to '1' in both driver and executor sides if you use pyarrow>=2.0.0. pandas-on-Spark will set it for you but it does not work if there is a Spark context already launched.\n",
      "  warnings.warn(\n"
     ]
    }
   ],
   "source": [
    "import pyspark.pandas as ps\n",
    "from pyspark.sql import SparkSession\n",
    "from pyspark.sql.functions import *"
   ]
  },
  {
   "cell_type": "code",
   "execution_count": 2,
   "id": "a77f8288",
   "metadata": {},
   "outputs": [
    {
     "name": "stderr",
     "output_type": "stream",
     "text": [
      "Setting default log level to \"WARN\".\n",
      "To adjust logging level use sc.setLogLevel(newLevel). For SparkR, use setLogLevel(newLevel).\n",
      "24/03/22 15:33:42 WARN NativeCodeLoader: Unable to load native-hadoop library for your platform... using builtin-java classes where applicable\n"
     ]
    }
   ],
   "source": [
    "spark = SparkSession.builder.getOrCreate()\n"
   ]
  },
  {
   "cell_type": "markdown",
   "id": "1e902ce2",
   "metadata": {},
   "source": [
    "### Accessing the diabetes prediction dataset CSV file using the spard.read.csv method."
   ]
  },
  {
   "cell_type": "code",
   "execution_count": 6,
   "id": "09f7e7c4",
   "metadata": {},
   "outputs": [
    {
     "data": {
      "text/plain": [
       "DataFrame[gender: string, age: string, hypertension: string, heart_disease: string, smoking_history: string, bmi: string, HbA1c_level: string, blood_glucose_level: string, diabetes: string]"
      ]
     },
     "execution_count": 6,
     "metadata": {},
     "output_type": "execute_result"
    }
   ],
   "source": [
    "diabetesPrediction = spark.read.csv('diabetes_prediction_dataset.csv', header=True)\n",
    "diabetesPrediction"
   ]
  },
  {
   "cell_type": "markdown",
   "id": "7aabd8ef",
   "metadata": {},
   "source": [
    "### As you can see in the output above, you will not be able to see a preview of the dataframe when you call it. It is because pySpark follows a lazy evaluation. Action methods on the spark dataframe only will trigger the computation. Some of the most used action methods are .show() and .collect()"
   ]
  },
  {
   "cell_type": "code",
   "execution_count": 7,
   "id": "30e18e92",
   "metadata": {},
   "outputs": [
    {
     "name": "stdout",
     "output_type": "stream",
     "text": [
      "+------+----+------------+-------------+---------------+-----+-----------+-------------------+--------+\n",
      "|gender| age|hypertension|heart_disease|smoking_history|  bmi|HbA1c_level|blood_glucose_level|diabetes|\n",
      "+------+----+------------+-------------+---------------+-----+-----------+-------------------+--------+\n",
      "|Female|80.0|           0|            1|          never|25.19|        6.6|                140|       0|\n",
      "|Female|54.0|           0|            0|        No Info|27.32|        6.6|                 80|       0|\n",
      "|  Male|28.0|           0|            0|          never|27.32|        5.7|                158|       0|\n",
      "|Female|36.0|           0|            0|        current|23.45|        5.0|                155|       0|\n",
      "|  Male|76.0|           1|            1|        current|20.14|        4.8|                155|       0|\n",
      "|Female|20.0|           0|            0|          never|27.32|        6.6|                 85|       0|\n",
      "|Female|44.0|           0|            0|          never|19.31|        6.5|                200|       1|\n",
      "|Female|79.0|           0|            0|        No Info|23.86|        5.7|                 85|       0|\n",
      "|  Male|42.0|           0|            0|          never|33.64|        4.8|                145|       0|\n",
      "|Female|32.0|           0|            0|          never|27.32|        5.0|                100|       0|\n",
      "|Female|53.0|           0|            0|          never|27.32|        6.1|                 85|       0|\n",
      "|Female|54.0|           0|            0|         former| 54.7|        6.0|                100|       0|\n",
      "|Female|78.0|           0|            0|         former|36.05|        5.0|                130|       0|\n",
      "|Female|67.0|           0|            0|          never|25.69|        5.8|                200|       0|\n",
      "|Female|76.0|           0|            0|        No Info|27.32|        5.0|                160|       0|\n",
      "|  Male|78.0|           0|            0|        No Info|27.32|        6.6|                126|       0|\n",
      "|  Male|15.0|           0|            0|          never|30.36|        6.1|                200|       0|\n",
      "|Female|42.0|           0|            0|          never|24.48|        5.7|                158|       0|\n",
      "|Female|42.0|           0|            0|        No Info|27.32|        5.7|                 80|       0|\n",
      "|  Male|37.0|           0|            0|           ever|25.72|        3.5|                159|       0|\n",
      "+------+----+------------+-------------+---------------+-----+-----------+-------------------+--------+\n",
      "only showing top 20 rows\n",
      "\n"
     ]
    }
   ],
   "source": [
    "diabetesPrediction.show()"
   ]
  },
  {
   "cell_type": "markdown",
   "id": "263e884a",
   "metadata": {},
   "source": [
    "### As you can see in the above output, the .show() method triggered computation on the spark dataframe and is displaying the top 20 rows. "
   ]
  },
  {
   "cell_type": "markdown",
   "id": "bbb3ff98",
   "metadata": {},
   "source": [
    "### To print the schema of a spark data frame, we should use the .printSchema() method."
   ]
  },
  {
   "cell_type": "code",
   "execution_count": 8,
   "id": "270f5a59",
   "metadata": {},
   "outputs": [
    {
     "name": "stdout",
     "output_type": "stream",
     "text": [
      "root\n",
      " |-- gender: string (nullable = true)\n",
      " |-- age: string (nullable = true)\n",
      " |-- hypertension: string (nullable = true)\n",
      " |-- heart_disease: string (nullable = true)\n",
      " |-- smoking_history: string (nullable = true)\n",
      " |-- bmi: string (nullable = true)\n",
      " |-- HbA1c_level: string (nullable = true)\n",
      " |-- blood_glucose_level: string (nullable = true)\n",
      " |-- diabetes: string (nullable = true)\n",
      "\n"
     ]
    }
   ],
   "source": [
    "diabetesPrediction.printSchema()"
   ]
  },
  {
   "cell_type": "markdown",
   "id": "d8054072",
   "metadata": {},
   "source": [
    "### To get the summary statistics out of a spark dataframe, we should call .describe() to create a summary statistics dataframe and .show() to trigger the computation. "
   ]
  },
  {
   "cell_type": "code",
   "execution_count": 10,
   "id": "c5cd0010",
   "metadata": {},
   "outputs": [
    {
     "name": "stderr",
     "output_type": "stream",
     "text": [
      "\r",
      "[Stage 9:>                                                          (0 + 1) / 1]\r"
     ]
    },
    {
     "name": "stdout",
     "output_type": "stream",
     "text": [
      "+-------+------+-----------------+------------------+------------------+---------------+-----------------+------------------+-------------------+-------------------+\n",
      "|summary|gender|              age|      hypertension|     heart_disease|smoking_history|              bmi|       HbA1c_level|blood_glucose_level|           diabetes|\n",
      "+-------+------+-----------------+------------------+------------------+---------------+-----------------+------------------+-------------------+-------------------+\n",
      "|  count|100000|           100000|            100000|            100000|         100000|           100000|            100000|             100000|             100000|\n",
      "|   mean|  NULL|41.88585600000013|           0.07485|           0.03942|           NULL|27.32076709999422|5.5275069999983275|          138.05806|              0.085|\n",
      "| stddev|  NULL|22.51683987161704|0.2631504702289171|0.1945930169980986|           NULL|6.636783416648357|1.0706720918835468|  40.70813604870383|0.27888308976661896|\n",
      "|    min|Female|             0.08|                 0|                 0|        No Info|            10.01|               3.5|                100|                  0|\n",
      "|    max| Other|              9.0|                 1|                 1|    not current|            95.69|               9.0|                 90|                  1|\n",
      "+-------+------+-----------------+------------------+------------------+---------------+-----------------+------------------+-------------------+-------------------+\n",
      "\n"
     ]
    },
    {
     "name": "stderr",
     "output_type": "stream",
     "text": [
      "\r",
      "                                                                                \r"
     ]
    }
   ],
   "source": [
    "diabetesPrediction.describe().show()"
   ]
  },
  {
   "cell_type": "markdown",
   "id": "1567419e",
   "metadata": {},
   "source": [
    "### The .show() method on the summary statistics dataframe is visually messy. If you want it to look like the basic pandas data "
   ]
  },
  {
   "cell_type": "code",
   "execution_count": 13,
   "id": "3787345e",
   "metadata": {},
   "outputs": [
    {
     "name": "stderr",
     "output_type": "stream",
     "text": [
      "                                                                                \r"
     ]
    },
    {
     "data": {
      "text/html": [
       "<div>\n",
       "<style scoped>\n",
       "    .dataframe tbody tr th:only-of-type {\n",
       "        vertical-align: middle;\n",
       "    }\n",
       "\n",
       "    .dataframe tbody tr th {\n",
       "        vertical-align: top;\n",
       "    }\n",
       "\n",
       "    .dataframe thead th {\n",
       "        text-align: right;\n",
       "    }\n",
       "</style>\n",
       "<table border=\"1\" class=\"dataframe\">\n",
       "  <thead>\n",
       "    <tr style=\"text-align: right;\">\n",
       "      <th></th>\n",
       "      <th>summary</th>\n",
       "      <th>gender</th>\n",
       "      <th>age</th>\n",
       "      <th>hypertension</th>\n",
       "      <th>heart_disease</th>\n",
       "      <th>smoking_history</th>\n",
       "      <th>bmi</th>\n",
       "      <th>HbA1c_level</th>\n",
       "      <th>blood_glucose_level</th>\n",
       "      <th>diabetes</th>\n",
       "    </tr>\n",
       "  </thead>\n",
       "  <tbody>\n",
       "    <tr>\n",
       "      <th>0</th>\n",
       "      <td>count</td>\n",
       "      <td>100000</td>\n",
       "      <td>100000</td>\n",
       "      <td>100000</td>\n",
       "      <td>100000</td>\n",
       "      <td>100000</td>\n",
       "      <td>100000</td>\n",
       "      <td>100000</td>\n",
       "      <td>100000</td>\n",
       "      <td>100000</td>\n",
       "    </tr>\n",
       "    <tr>\n",
       "      <th>1</th>\n",
       "      <td>mean</td>\n",
       "      <td>None</td>\n",
       "      <td>41.88585600000013</td>\n",
       "      <td>0.07485</td>\n",
       "      <td>0.03942</td>\n",
       "      <td>None</td>\n",
       "      <td>27.32076709999422</td>\n",
       "      <td>5.5275069999983275</td>\n",
       "      <td>138.05806</td>\n",
       "      <td>0.085</td>\n",
       "    </tr>\n",
       "    <tr>\n",
       "      <th>2</th>\n",
       "      <td>stddev</td>\n",
       "      <td>None</td>\n",
       "      <td>22.51683987161704</td>\n",
       "      <td>0.2631504702289171</td>\n",
       "      <td>0.1945930169980986</td>\n",
       "      <td>None</td>\n",
       "      <td>6.636783416648357</td>\n",
       "      <td>1.0706720918835468</td>\n",
       "      <td>40.70813604870383</td>\n",
       "      <td>0.27888308976661896</td>\n",
       "    </tr>\n",
       "    <tr>\n",
       "      <th>3</th>\n",
       "      <td>min</td>\n",
       "      <td>Female</td>\n",
       "      <td>0.08</td>\n",
       "      <td>0</td>\n",
       "      <td>0</td>\n",
       "      <td>No Info</td>\n",
       "      <td>10.01</td>\n",
       "      <td>3.5</td>\n",
       "      <td>100</td>\n",
       "      <td>0</td>\n",
       "    </tr>\n",
       "    <tr>\n",
       "      <th>4</th>\n",
       "      <td>max</td>\n",
       "      <td>Other</td>\n",
       "      <td>9.0</td>\n",
       "      <td>1</td>\n",
       "      <td>1</td>\n",
       "      <td>not current</td>\n",
       "      <td>95.69</td>\n",
       "      <td>9.0</td>\n",
       "      <td>90</td>\n",
       "      <td>1</td>\n",
       "    </tr>\n",
       "  </tbody>\n",
       "</table>\n",
       "</div>"
      ],
      "text/plain": [
       "  summary  gender                age        hypertension       heart_disease smoking_history                bmi         HbA1c_level blood_glucose_level             diabetes\n",
       "0   count  100000             100000              100000              100000          100000             100000              100000              100000               100000\n",
       "1    mean    None  41.88585600000013             0.07485             0.03942            None  27.32076709999422  5.5275069999983275           138.05806                0.085\n",
       "2  stddev    None  22.51683987161704  0.2631504702289171  0.1945930169980986            None  6.636783416648357  1.0706720918835468   40.70813604870383  0.27888308976661896\n",
       "3     min  Female               0.08                   0                   0         No Info              10.01                 3.5                 100                    0\n",
       "4     max   Other                9.0                   1                   1     not current              95.69                 9.0                  90                    1"
      ]
     },
     "execution_count": 13,
     "metadata": {},
     "output_type": "execute_result"
    }
   ],
   "source": [
    "diabetesPrediction.describe().pandas_api()"
   ]
  },
  {
   "cell_type": "code",
   "execution_count": null,
   "id": "b915c3c2",
   "metadata": {},
   "outputs": [],
   "source": []
  }
 ],
 "metadata": {
  "kernelspec": {
   "display_name": "pyspark-showcase-1",
   "language": "python",
   "name": "pyspark-showcase-1"
  },
  "language_info": {
   "codemirror_mode": {
    "name": "ipython",
    "version": 3
   },
   "file_extension": ".py",
   "mimetype": "text/x-python",
   "name": "python",
   "nbconvert_exporter": "python",
   "pygments_lexer": "ipython3",
   "version": "3.10.10"
  }
 },
 "nbformat": 4,
 "nbformat_minor": 5
}
