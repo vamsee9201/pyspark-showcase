{
 "cells": [
  {
   "cell_type": "code",
   "execution_count": 1,
   "id": "486b9f23",
   "metadata": {},
   "outputs": [
    {
     "name": "stderr",
     "output_type": "stream",
     "text": [
      "/Users/vamseekrishna/Desktop/pyspark-showcase/pyspark-showcase/lib/python3.10/site-packages/pyspark/pandas/__init__.py:50: UserWarning: 'PYARROW_IGNORE_TIMEZONE' environment variable was not set. It is required to set this environment variable to '1' in both driver and executor sides if you use pyarrow>=2.0.0. pandas-on-Spark will set it for you but it does not work if there is a Spark context already launched.\n",
      "  warnings.warn(\n"
     ]
    }
   ],
   "source": [
    "import pyspark.pandas as ps\n",
    "from pyspark.sql import SparkSession\n",
    "from pyspark.sql.functions import *"
   ]
  },
  {
   "cell_type": "code",
   "execution_count": 2,
   "id": "a77f8288",
   "metadata": {},
   "outputs": [
    {
     "name": "stderr",
     "output_type": "stream",
     "text": [
      "24/04/05 21:26:22 WARN Utils: Your hostname, Vamsees-MacBook-Pro.local resolves to a loopback address: 127.0.0.1; using 192.168.1.87 instead (on interface en0)\n",
      "24/04/05 21:26:22 WARN Utils: Set SPARK_LOCAL_IP if you need to bind to another address\n",
      "Setting default log level to \"WARN\".\n",
      "To adjust logging level use sc.setLogLevel(newLevel). For SparkR, use setLogLevel(newLevel).\n",
      "24/04/05 21:26:22 WARN NativeCodeLoader: Unable to load native-hadoop library for your platform... using builtin-java classes where applicable\n"
     ]
    }
   ],
   "source": [
    "spark = SparkSession.builder.getOrCreate()\n"
   ]
  },
  {
   "cell_type": "markdown",
   "id": "9b9780c5",
   "metadata": {},
   "source": [
    "### Accessing the diabetes prediction dataset CSV file using the spard.read.csv method."
   ]
  },
  {
   "cell_type": "code",
   "execution_count": null,
   "id": "711e503f",
   "metadata": {},
   "outputs": [],
   "source": [
    "diabetesPrediction = spark.read.csv('diabetes_prediction_dataset.csv', header=True)\n",
    "diabetesPrediction"
   ]
  },
  {
   "cell_type": "markdown",
   "id": "9ec6015e",
   "metadata": {},
   "source": [
    "### As you can see in the output above, you will not be able to see a preview of the dataframe when you call it. It is because pySpark follows a lazy evaluation. Action methods on the spark dataframe only will trigger the computation. Some of the most used action methods are .show() and .collect()"
   ]
  },
  {
   "cell_type": "code",
   "execution_count": null,
   "id": "40ce2aff",
   "metadata": {},
   "outputs": [],
   "source": [
    "diabetesPrediction.show()"
   ]
  },
  {
   "cell_type": "markdown",
   "id": "01dc583e",
   "metadata": {},
   "source": [
    "### As you can see in the above output, the .show() method triggered computation on the spark dataframe and is displaying the top 20 rows. "
   ]
  },
  {
   "cell_type": "markdown",
   "id": "75ed1966",
   "metadata": {},
   "source": [
    "### To print the schema of a spark data frame, we should use the .printSchema() method."
   ]
  },
  {
   "cell_type": "code",
   "execution_count": null,
   "id": "c01ad262",
   "metadata": {},
   "outputs": [],
   "source": [
    "diabetesPrediction.printSchema()"
   ]
  },
  {
   "cell_type": "markdown",
   "id": "1edd2b39",
   "metadata": {},
   "source": [
    "### To get the summary statistics out of a spark dataframe, we should call .describe() to create a summary statistics dataframe and .show() to trigger the computation. "
   ]
  },
  {
   "cell_type": "code",
   "execution_count": null,
   "id": "acc409c4",
   "metadata": {},
   "outputs": [],
   "source": [
    "diabetesPrediction.describe().show()"
   ]
  },
  {
   "cell_type": "markdown",
   "id": "f72d2091",
   "metadata": {},
   "source": [
    "### The .show() method on the summary statistics dataframe is visually messy. If you want it to look like the basic pandas dataframe when called, we should use .pandas_api(). This method will convert the spark dataframe to pandas-on-spark dataframe. This type of dataframe is very similar to the everyday pandas dataframe. However, the former is distributed and the latter is on a single machine. "
   ]
  },
  {
   "cell_type": "code",
   "execution_count": null,
   "id": "6e92a0f8",
   "metadata": {},
   "outputs": [],
   "source": [
    "diabetesPrediction.describe().pandas_api()"
   ]
  },
  {
   "cell_type": "markdown",
   "id": "d5c90b16",
   "metadata": {},
   "source": [
    "### To group by a column's values and apply a aggregate function to get a measure, we should use .groupby(\"columnName\").agg({\"columnName\":\"aggregationFunction\"}) to get the desired result."
   ]
  },
  {
   "cell_type": "markdown",
   "id": "daf3cca1",
   "metadata": {},
   "source": [
    "### Here, we want to calcuate the average age of each gender. We should apply groupby on the gender column and apply average aggregation function on the age column. "
   ]
  },
  {
   "cell_type": "code",
   "execution_count": null,
   "id": "a61818ba",
   "metadata": {},
   "outputs": [],
   "source": [
    "genderAvgAge = diabetesPrediction.groupBy(diabetesPrediction.gender).agg({'age':'mean'})\n",
    "genderAvgAge.show()"
   ]
  },
  {
   "cell_type": "markdown",
   "id": "f36c0e19",
   "metadata": {},
   "source": [
    "### The average age of a female is 42.5 , while the average age of a male is 29.5"
   ]
  },
  {
   "cell_type": "markdown",
   "id": "1c116cd5",
   "metadata": {},
   "source": [
    "### Getting the columns in a pyspark dataframe is similar to getting columns in a pandas dataframe. We should use the .columns property, and it will return a list of columns."
   ]
  },
  {
   "cell_type": "code",
   "execution_count": null,
   "id": "1dbd28ae",
   "metadata": {
    "scrolled": true
   },
   "outputs": [],
   "source": [
    "diabetesPrediction.columns"
   ]
  },
  {
   "cell_type": "markdown",
   "id": "2230a285",
   "metadata": {},
   "source": [
    "### To drop duplicates, we can drop use the .dropduplicates() method similar to th"
   ]
  },
  {
   "cell_type": "markdown",
   "id": "704795d9",
   "metadata": {},
   "source": [
    "### To get the null values in the spark dataframe, we should use a .isnull method inside a .filter method to get the count of null values. "
   ]
  },
  {
   "cell_type": "code",
   "execution_count": null,
   "id": "0bbb7235",
   "metadata": {},
   "outputs": [],
   "source": [
    "diabetesPrediction.filter(col(\"age\").isNull()).count()\n"
   ]
  },
  {
   "cell_type": "markdown",
   "id": "8d1e3e3d",
   "metadata": {},
   "source": [
    "### This shows that there are zero null values in the age column. "
   ]
  },
  {
   "cell_type": "markdown",
   "id": "93828368",
   "metadata": {},
   "source": [
    "### We can use .withColumn() method to add new columns to the dataframe. "
   ]
  },
  {
   "cell_type": "code",
   "execution_count": null,
   "id": "a98f8aa2",
   "metadata": {},
   "outputs": [],
   "source": [
    "diabetesPrediction.withColumn('age2',diabetesPrediction.age**2).show()"
   ]
  },
  {
   "cell_type": "markdown",
   "id": "61eb7b4d",
   "metadata": {},
   "source": [
    "### As you can see age2 column is added to the end of the dataframe. "
   ]
  },
  {
   "cell_type": "markdown",
   "id": "4f61de45",
   "metadata": {},
   "source": [
    "### To filter columns by the necessary conditions on columns, we can use either .filter() or .where() methods. "
   ]
  },
  {
   "cell_type": "code",
   "execution_count": null,
   "id": "0c955fbe",
   "metadata": {},
   "outputs": [],
   "source": [
    "diabetesPrediction.filter( (diabetesPrediction.age > 25) & (diabetesPrediction.age<35)).show()\n"
   ]
  },
  {
   "cell_type": "code",
   "execution_count": null,
   "id": "f7917363",
   "metadata": {},
   "outputs": [],
   "source": [
    "diabetesPrediction.where( (diabetesPrediction.age > 25) & (diabetesPrediction.age<35)).show()"
   ]
  },
  {
   "cell_type": "markdown",
   "id": "a9e1e845",
   "metadata": {},
   "source": [
    "### Here, only rows or entities with ages >25 and ages < 35 are shown. "
   ]
  },
  {
   "cell_type": "markdown",
   "id": "08254623",
   "metadata": {},
   "source": [
    "### We can merge data frames in spark by using the union() method. "
   ]
  },
  {
   "cell_type": "code",
   "execution_count": null,
   "id": "912285e2",
   "metadata": {},
   "outputs": [],
   "source": [
    "df1 = spark.createDataFrame([(\"Alice\", 1), (\"Bob\", 2)], [\"name\", \"id\"])\n",
    "df2 = spark.createDataFrame([(3, \"Charlie\"), (4, \"Dave\")], [\"id\", \"name\"])\n",
    "union_df = df1.union(df2)"
   ]
  },
  {
   "cell_type": "markdown",
   "id": "be0664d8",
   "metadata": {},
   "source": [
    "### We can use also SQL queries to operate on spark dataframes."
   ]
  },
  {
   "cell_type": "markdown",
   "id": "bbee4a16",
   "metadata": {},
   "source": [
    "### We can select all rows from a DataFrame by using a placeholder like {table1} in the query and passing the DataFrame using keyword arguments, such as table1=diabetesPrediction."
   ]
  },
  {
   "cell_type": "code",
   "execution_count": null,
   "id": "58ab88ab",
   "metadata": {},
   "outputs": [],
   "source": [
    "spark.sql('SELECT * FROM {table1}',table1=diabetesPrediction).show()"
   ]
  },
  {
   "cell_type": "markdown",
   "id": "962ea237",
   "metadata": {},
   "source": [
    "### The following query displays the age column"
   ]
  },
  {
   "cell_type": "code",
   "execution_count": 18,
   "id": "1755f20a",
   "metadata": {},
   "outputs": [
    {
     "name": "stdout",
     "output_type": "stream",
     "text": [
      "+----+\n",
      "| age|\n",
      "+----+\n",
      "|80.0|\n",
      "|54.0|\n",
      "|28.0|\n",
      "|36.0|\n",
      "|76.0|\n",
      "|20.0|\n",
      "|44.0|\n",
      "|79.0|\n",
      "|42.0|\n",
      "|32.0|\n",
      "|53.0|\n",
      "|54.0|\n",
      "|78.0|\n",
      "|67.0|\n",
      "|76.0|\n",
      "|78.0|\n",
      "|15.0|\n",
      "|42.0|\n",
      "|42.0|\n",
      "|37.0|\n",
      "+----+\n",
      "only showing top 20 rows\n",
      "\n"
     ]
    }
   ],
   "source": [
    "spark.sql(\"SELECT {table1}.age FROM {table1}\",table1=diabetesPrediction).show()"
   ]
  },
  {
   "cell_type": "markdown",
   "id": "f66e6055",
   "metadata": {},
   "source": [
    "### The following query displayes the age column. This difference from the previous query is that it demonstrates how table alias can be used in pyspark SQL."
   ]
  },
  {
   "cell_type": "code",
   "execution_count": 19,
   "id": "3115643f",
   "metadata": {},
   "outputs": [
    {
     "name": "stdout",
     "output_type": "stream",
     "text": [
      "+----+\n",
      "| age|\n",
      "+----+\n",
      "|80.0|\n",
      "|54.0|\n",
      "|28.0|\n",
      "|36.0|\n",
      "|76.0|\n",
      "|20.0|\n",
      "|44.0|\n",
      "|79.0|\n",
      "|42.0|\n",
      "|32.0|\n",
      "|53.0|\n",
      "|54.0|\n",
      "|78.0|\n",
      "|67.0|\n",
      "|76.0|\n",
      "|78.0|\n",
      "|15.0|\n",
      "|42.0|\n",
      "|42.0|\n",
      "|37.0|\n",
      "+----+\n",
      "only showing top 20 rows\n",
      "\n"
     ]
    }
   ],
   "source": [
    "spark.sql(\"SELECT t1.age FROM {table1} t1\",table1=diabetesPrediction).show()"
   ]
  },
  {
   "cell_type": "code",
   "execution_count": null,
   "id": "1bd51bf3",
   "metadata": {},
   "outputs": [],
   "source": [
    "ageFilter = 25\n",
    "spark.sql(\"SELECT t1.age FROM {table1} t1 WHERE t1.age > {ageFilter}\",table1=diabetesPrediction,ageFilter=ageFilter).show()"
   ]
  }
 ],
 "metadata": {
  "kernelspec": {
   "display_name": "pyspark-showcase-1",
   "language": "python",
   "name": "pyspark-showcase-1"
  },
  "language_info": {
   "codemirror_mode": {
    "name": "ipython",
    "version": 3
   },
   "file_extension": ".py",
   "mimetype": "text/x-python",
   "name": "python",
   "nbconvert_exporter": "python",
   "pygments_lexer": "ipython3",
   "version": "3.10.10"
  }
 },
 "nbformat": 4,
 "nbformat_minor": 5
}
