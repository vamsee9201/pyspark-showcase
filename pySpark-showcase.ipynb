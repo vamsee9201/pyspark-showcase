{
 "cells": [
  {
   "cell_type": "code",
   "execution_count": 1,
   "id": "486b9f23",
   "metadata": {},
   "outputs": [
    {
     "name": "stderr",
     "output_type": "stream",
     "text": [
      "/Users/vamseekrishna/Desktop/pyspark-showcase/pyspark-showcase/lib/python3.10/site-packages/pyspark/pandas/__init__.py:50: UserWarning: 'PYARROW_IGNORE_TIMEZONE' environment variable was not set. It is required to set this environment variable to '1' in both driver and executor sides if you use pyarrow>=2.0.0. pandas-on-Spark will set it for you but it does not work if there is a Spark context already launched.\n",
      "  warnings.warn(\n"
     ]
    }
   ],
   "source": [
    "import pyspark.pandas as ps\n",
    "from pyspark.sql import SparkSession\n",
    "from pyspark.sql.functions import *"
   ]
  },
  {
   "cell_type": "code",
   "execution_count": 2,
   "id": "a77f8288",
   "metadata": {},
   "outputs": [
    {
     "name": "stderr",
     "output_type": "stream",
     "text": [
      "24/04/10 22:09:14 WARN Utils: Your hostname, Vamsees-MacBook-Pro.local resolves to a loopback address: 127.0.0.1; using 192.168.1.87 instead (on interface en0)\n",
      "24/04/10 22:09:14 WARN Utils: Set SPARK_LOCAL_IP if you need to bind to another address\n",
      "Setting default log level to \"WARN\".\n",
      "To adjust logging level use sc.setLogLevel(newLevel). For SparkR, use setLogLevel(newLevel).\n",
      "24/04/10 22:09:15 WARN NativeCodeLoader: Unable to load native-hadoop library for your platform... using builtin-java classes where applicable\n"
     ]
    }
   ],
   "source": [
    "spark = SparkSession.builder.getOrCreate()\n"
   ]
  },
  {
   "cell_type": "markdown",
   "id": "9b9780c5",
   "metadata": {},
   "source": [
    "### Accessing the diabetes prediction dataset CSV file using the spard.read.csv method."
   ]
  },
  {
   "cell_type": "code",
   "execution_count": 3,
   "id": "711e503f",
   "metadata": {},
   "outputs": [
    {
     "data": {
      "text/plain": [
       "DataFrame[gender: string, age: string, hypertension: string, heart_disease: string, smoking_history: string, bmi: string, HbA1c_level: string, blood_glucose_level: string, diabetes: string]"
      ]
     },
     "execution_count": 3,
     "metadata": {},
     "output_type": "execute_result"
    }
   ],
   "source": [
    "diabetesPrediction = spark.read.csv('diabetes_prediction_dataset.csv', header=True)\n",
    "diabetesPrediction"
   ]
  },
  {
   "cell_type": "markdown",
   "id": "9ec6015e",
   "metadata": {},
   "source": [
    "### As you can see in the output above, you will not be able to see a preview of the dataframe when you call it. It is because pySpark follows a lazy evaluation. Action methods on the spark dataframe only will trigger the computation. Some of the most used action methods are .show() and .collect()"
   ]
  },
  {
   "cell_type": "code",
   "execution_count": 4,
   "id": "40ce2aff",
   "metadata": {},
   "outputs": [
    {
     "name": "stdout",
     "output_type": "stream",
     "text": [
      "+------+----+------------+-------------+---------------+-----+-----------+-------------------+--------+\n",
      "|gender| age|hypertension|heart_disease|smoking_history|  bmi|HbA1c_level|blood_glucose_level|diabetes|\n",
      "+------+----+------------+-------------+---------------+-----+-----------+-------------------+--------+\n",
      "|Female|80.0|           0|            1|          never|25.19|        6.6|                140|       0|\n",
      "|Female|54.0|           0|            0|        No Info|27.32|        6.6|                 80|       0|\n",
      "|  Male|28.0|           0|            0|          never|27.32|        5.7|                158|       0|\n",
      "|Female|36.0|           0|            0|        current|23.45|        5.0|                155|       0|\n",
      "|  Male|76.0|           1|            1|        current|20.14|        4.8|                155|       0|\n",
      "|Female|20.0|           0|            0|          never|27.32|        6.6|                 85|       0|\n",
      "|Female|44.0|           0|            0|          never|19.31|        6.5|                200|       1|\n",
      "|Female|79.0|           0|            0|        No Info|23.86|        5.7|                 85|       0|\n",
      "|  Male|42.0|           0|            0|          never|33.64|        4.8|                145|       0|\n",
      "|Female|32.0|           0|            0|          never|27.32|        5.0|                100|       0|\n",
      "|Female|53.0|           0|            0|          never|27.32|        6.1|                 85|       0|\n",
      "|Female|54.0|           0|            0|         former| 54.7|        6.0|                100|       0|\n",
      "|Female|78.0|           0|            0|         former|36.05|        5.0|                130|       0|\n",
      "|Female|67.0|           0|            0|          never|25.69|        5.8|                200|       0|\n",
      "|Female|76.0|           0|            0|        No Info|27.32|        5.0|                160|       0|\n",
      "|  Male|78.0|           0|            0|        No Info|27.32|        6.6|                126|       0|\n",
      "|  Male|15.0|           0|            0|          never|30.36|        6.1|                200|       0|\n",
      "|Female|42.0|           0|            0|          never|24.48|        5.7|                158|       0|\n",
      "|Female|42.0|           0|            0|        No Info|27.32|        5.7|                 80|       0|\n",
      "|  Male|37.0|           0|            0|           ever|25.72|        3.5|                159|       0|\n",
      "+------+----+------------+-------------+---------------+-----+-----------+-------------------+--------+\n",
      "only showing top 20 rows\n",
      "\n"
     ]
    }
   ],
   "source": [
    "diabetesPrediction.show()"
   ]
  },
  {
   "cell_type": "markdown",
   "id": "01dc583e",
   "metadata": {},
   "source": [
    "### As you can see in the above output, the .show() method triggered computation on the spark dataframe and is displaying the top 20 rows. "
   ]
  },
  {
   "cell_type": "markdown",
   "id": "75ed1966",
   "metadata": {},
   "source": [
    "### To print the schema of a spark data frame, we should use the .printSchema() method."
   ]
  },
  {
   "cell_type": "code",
   "execution_count": 5,
   "id": "c01ad262",
   "metadata": {},
   "outputs": [
    {
     "name": "stdout",
     "output_type": "stream",
     "text": [
      "root\n",
      " |-- gender: string (nullable = true)\n",
      " |-- age: string (nullable = true)\n",
      " |-- hypertension: string (nullable = true)\n",
      " |-- heart_disease: string (nullable = true)\n",
      " |-- smoking_history: string (nullable = true)\n",
      " |-- bmi: string (nullable = true)\n",
      " |-- HbA1c_level: string (nullable = true)\n",
      " |-- blood_glucose_level: string (nullable = true)\n",
      " |-- diabetes: string (nullable = true)\n",
      "\n"
     ]
    }
   ],
   "source": [
    "diabetesPrediction.printSchema()"
   ]
  },
  {
   "cell_type": "markdown",
   "id": "1edd2b39",
   "metadata": {},
   "source": [
    "### To get the summary statistics out of a spark dataframe, we should call .describe() to create a summary statistics dataframe and .show() to trigger the computation. "
   ]
  },
  {
   "cell_type": "code",
   "execution_count": 6,
   "id": "acc409c4",
   "metadata": {},
   "outputs": [
    {
     "name": "stderr",
     "output_type": "stream",
     "text": [
      "24/04/10 22:09:24 WARN SparkStringUtils: Truncated the string representation of a plan since it was too large. This behavior can be adjusted by setting 'spark.sql.debug.maxToStringFields'.\n",
      "[Stage 2:>                                                          (0 + 1) / 1]\r"
     ]
    },
    {
     "name": "stdout",
     "output_type": "stream",
     "text": [
      "+-------+------+-----------------+------------------+------------------+---------------+-----------------+------------------+-------------------+-------------------+\n",
      "|summary|gender|              age|      hypertension|     heart_disease|smoking_history|              bmi|       HbA1c_level|blood_glucose_level|           diabetes|\n",
      "+-------+------+-----------------+------------------+------------------+---------------+-----------------+------------------+-------------------+-------------------+\n",
      "|  count|100000|           100000|            100000|            100000|         100000|           100000|            100000|             100000|             100000|\n",
      "|   mean|  NULL|41.88585600000013|           0.07485|           0.03942|           NULL|27.32076709999422|5.5275069999983275|          138.05806|              0.085|\n",
      "| stddev|  NULL|22.51683987161704|0.2631504702289171|0.1945930169980986|           NULL|6.636783416648357|1.0706720918835468|  40.70813604870383|0.27888308976661896|\n",
      "|    min|Female|             0.08|                 0|                 0|        No Info|            10.01|               3.5|                100|                  0|\n",
      "|    max| Other|              9.0|                 1|                 1|    not current|            95.69|               9.0|                 90|                  1|\n",
      "+-------+------+-----------------+------------------+------------------+---------------+-----------------+------------------+-------------------+-------------------+\n",
      "\n"
     ]
    },
    {
     "name": "stderr",
     "output_type": "stream",
     "text": [
      "                                                                                \r"
     ]
    }
   ],
   "source": [
    "diabetesPrediction.describe().show()"
   ]
  },
  {
   "cell_type": "markdown",
   "id": "f72d2091",
   "metadata": {},
   "source": [
    "### The .show() method on the summary statistics dataframe is visually messy. If you want it to look like the basic pandas dataframe when called, we should use .pandas_api(). This method will convert the spark dataframe to pandas-on-spark dataframe. This type of dataframe is very similar to the everyday pandas dataframe. However, the former is distributed and the latter is on a single machine. "
   ]
  },
  {
   "cell_type": "code",
   "execution_count": 7,
   "id": "6e92a0f8",
   "metadata": {},
   "outputs": [
    {
     "name": "stderr",
     "output_type": "stream",
     "text": [
      "                                                                                \r"
     ]
    },
    {
     "data": {
      "text/html": [
       "<div>\n",
       "<style scoped>\n",
       "    .dataframe tbody tr th:only-of-type {\n",
       "        vertical-align: middle;\n",
       "    }\n",
       "\n",
       "    .dataframe tbody tr th {\n",
       "        vertical-align: top;\n",
       "    }\n",
       "\n",
       "    .dataframe thead th {\n",
       "        text-align: right;\n",
       "    }\n",
       "</style>\n",
       "<table border=\"1\" class=\"dataframe\">\n",
       "  <thead>\n",
       "    <tr style=\"text-align: right;\">\n",
       "      <th></th>\n",
       "      <th>summary</th>\n",
       "      <th>gender</th>\n",
       "      <th>age</th>\n",
       "      <th>hypertension</th>\n",
       "      <th>heart_disease</th>\n",
       "      <th>smoking_history</th>\n",
       "      <th>bmi</th>\n",
       "      <th>HbA1c_level</th>\n",
       "      <th>blood_glucose_level</th>\n",
       "      <th>diabetes</th>\n",
       "    </tr>\n",
       "  </thead>\n",
       "  <tbody>\n",
       "    <tr>\n",
       "      <th>0</th>\n",
       "      <td>count</td>\n",
       "      <td>100000</td>\n",
       "      <td>100000</td>\n",
       "      <td>100000</td>\n",
       "      <td>100000</td>\n",
       "      <td>100000</td>\n",
       "      <td>100000</td>\n",
       "      <td>100000</td>\n",
       "      <td>100000</td>\n",
       "      <td>100000</td>\n",
       "    </tr>\n",
       "    <tr>\n",
       "      <th>1</th>\n",
       "      <td>mean</td>\n",
       "      <td>None</td>\n",
       "      <td>41.88585600000013</td>\n",
       "      <td>0.07485</td>\n",
       "      <td>0.03942</td>\n",
       "      <td>None</td>\n",
       "      <td>27.32076709999422</td>\n",
       "      <td>5.5275069999983275</td>\n",
       "      <td>138.05806</td>\n",
       "      <td>0.085</td>\n",
       "    </tr>\n",
       "    <tr>\n",
       "      <th>2</th>\n",
       "      <td>stddev</td>\n",
       "      <td>None</td>\n",
       "      <td>22.51683987161704</td>\n",
       "      <td>0.2631504702289171</td>\n",
       "      <td>0.1945930169980986</td>\n",
       "      <td>None</td>\n",
       "      <td>6.636783416648357</td>\n",
       "      <td>1.0706720918835468</td>\n",
       "      <td>40.70813604870383</td>\n",
       "      <td>0.27888308976661896</td>\n",
       "    </tr>\n",
       "    <tr>\n",
       "      <th>3</th>\n",
       "      <td>min</td>\n",
       "      <td>Female</td>\n",
       "      <td>0.08</td>\n",
       "      <td>0</td>\n",
       "      <td>0</td>\n",
       "      <td>No Info</td>\n",
       "      <td>10.01</td>\n",
       "      <td>3.5</td>\n",
       "      <td>100</td>\n",
       "      <td>0</td>\n",
       "    </tr>\n",
       "    <tr>\n",
       "      <th>4</th>\n",
       "      <td>max</td>\n",
       "      <td>Other</td>\n",
       "      <td>9.0</td>\n",
       "      <td>1</td>\n",
       "      <td>1</td>\n",
       "      <td>not current</td>\n",
       "      <td>95.69</td>\n",
       "      <td>9.0</td>\n",
       "      <td>90</td>\n",
       "      <td>1</td>\n",
       "    </tr>\n",
       "  </tbody>\n",
       "</table>\n",
       "</div>"
      ],
      "text/plain": [
       "  summary  gender                age        hypertension       heart_disease smoking_history                bmi         HbA1c_level blood_glucose_level             diabetes\n",
       "0   count  100000             100000              100000              100000          100000             100000              100000              100000               100000\n",
       "1    mean    None  41.88585600000013             0.07485             0.03942            None  27.32076709999422  5.5275069999983275           138.05806                0.085\n",
       "2  stddev    None  22.51683987161704  0.2631504702289171  0.1945930169980986            None  6.636783416648357  1.0706720918835468   40.70813604870383  0.27888308976661896\n",
       "3     min  Female               0.08                   0                   0         No Info              10.01                 3.5                 100                    0\n",
       "4     max   Other                9.0                   1                   1     not current              95.69                 9.0                  90                    1"
      ]
     },
     "execution_count": 7,
     "metadata": {},
     "output_type": "execute_result"
    }
   ],
   "source": [
    "diabetesPrediction.describe().pandas_api()"
   ]
  },
  {
   "cell_type": "markdown",
   "id": "d5c90b16",
   "metadata": {},
   "source": [
    "### To group by a column's values and apply a aggregate function to get a measure, we should use .groupby(\"columnName\").agg({\"columnName\":\"aggregationFunction\"}) to get the desired result."
   ]
  },
  {
   "cell_type": "markdown",
   "id": "daf3cca1",
   "metadata": {},
   "source": [
    "### Here, we want to calcuate the average age of each gender. We should apply groupby on the gender column and apply average aggregation function on the age column. "
   ]
  },
  {
   "cell_type": "code",
   "execution_count": 8,
   "id": "a61818ba",
   "metadata": {},
   "outputs": [
    {
     "name": "stdout",
     "output_type": "stream",
     "text": [
      "+------+------------------+\n",
      "|gender|          avg(age)|\n",
      "+------+------------------+\n",
      "|Female|42.463290750102445|\n",
      "| Other|29.555555555555557|\n",
      "|  Male| 41.07513878831753|\n",
      "+------+------------------+\n",
      "\n"
     ]
    }
   ],
   "source": [
    "genderAvgAge = diabetesPrediction.groupBy(diabetesPrediction.gender).agg({'age':'mean'})\n",
    "genderAvgAge.show()"
   ]
  },
  {
   "cell_type": "markdown",
   "id": "f36c0e19",
   "metadata": {},
   "source": [
    "### The average age of a female is 42.5 , while the average age of a male is 29.5"
   ]
  },
  {
   "cell_type": "markdown",
   "id": "1c116cd5",
   "metadata": {},
   "source": [
    "### Getting the columns in a pyspark dataframe is similar to getting columns in a pandas dataframe. We should use the .columns property, and it will return a list of columns."
   ]
  },
  {
   "cell_type": "code",
   "execution_count": 9,
   "id": "1dbd28ae",
   "metadata": {
    "scrolled": true
   },
   "outputs": [
    {
     "data": {
      "text/plain": [
       "['gender',\n",
       " 'age',\n",
       " 'hypertension',\n",
       " 'heart_disease',\n",
       " 'smoking_history',\n",
       " 'bmi',\n",
       " 'HbA1c_level',\n",
       " 'blood_glucose_level',\n",
       " 'diabetes']"
      ]
     },
     "execution_count": 9,
     "metadata": {},
     "output_type": "execute_result"
    }
   ],
   "source": [
    "diabetesPrediction.columns"
   ]
  },
  {
   "cell_type": "markdown",
   "id": "2230a285",
   "metadata": {},
   "source": [
    "### To drop duplicates, we can drop use the .dropduplicates() method similar to th"
   ]
  },
  {
   "cell_type": "markdown",
   "id": "704795d9",
   "metadata": {},
   "source": [
    "### To get the null values in the spark dataframe, we should use a .isnull method inside a .filter method to get the count of null values. "
   ]
  },
  {
   "cell_type": "code",
   "execution_count": 10,
   "id": "0bbb7235",
   "metadata": {},
   "outputs": [
    {
     "data": {
      "text/plain": [
       "0"
      ]
     },
     "execution_count": 10,
     "metadata": {},
     "output_type": "execute_result"
    }
   ],
   "source": [
    "diabetesPrediction.filter(col(\"age\").isNull()).count()\n"
   ]
  },
  {
   "cell_type": "markdown",
   "id": "8d1e3e3d",
   "metadata": {},
   "source": [
    "### This shows that there are zero null values in the age column. "
   ]
  },
  {
   "cell_type": "markdown",
   "id": "93828368",
   "metadata": {},
   "source": [
    "### We can use .withColumn() method to add new columns to the dataframe. "
   ]
  },
  {
   "cell_type": "code",
   "execution_count": 11,
   "id": "a98f8aa2",
   "metadata": {},
   "outputs": [
    {
     "name": "stdout",
     "output_type": "stream",
     "text": [
      "+------+----+------------+-------------+---------------+-----+-----------+-------------------+--------+------+\n",
      "|gender| age|hypertension|heart_disease|smoking_history|  bmi|HbA1c_level|blood_glucose_level|diabetes|  age2|\n",
      "+------+----+------------+-------------+---------------+-----+-----------+-------------------+--------+------+\n",
      "|Female|80.0|           0|            1|          never|25.19|        6.6|                140|       0|6400.0|\n",
      "|Female|54.0|           0|            0|        No Info|27.32|        6.6|                 80|       0|2916.0|\n",
      "|  Male|28.0|           0|            0|          never|27.32|        5.7|                158|       0| 784.0|\n",
      "|Female|36.0|           0|            0|        current|23.45|        5.0|                155|       0|1296.0|\n",
      "|  Male|76.0|           1|            1|        current|20.14|        4.8|                155|       0|5776.0|\n",
      "|Female|20.0|           0|            0|          never|27.32|        6.6|                 85|       0| 400.0|\n",
      "|Female|44.0|           0|            0|          never|19.31|        6.5|                200|       1|1936.0|\n",
      "|Female|79.0|           0|            0|        No Info|23.86|        5.7|                 85|       0|6241.0|\n",
      "|  Male|42.0|           0|            0|          never|33.64|        4.8|                145|       0|1764.0|\n",
      "|Female|32.0|           0|            0|          never|27.32|        5.0|                100|       0|1024.0|\n",
      "|Female|53.0|           0|            0|          never|27.32|        6.1|                 85|       0|2809.0|\n",
      "|Female|54.0|           0|            0|         former| 54.7|        6.0|                100|       0|2916.0|\n",
      "|Female|78.0|           0|            0|         former|36.05|        5.0|                130|       0|6084.0|\n",
      "|Female|67.0|           0|            0|          never|25.69|        5.8|                200|       0|4489.0|\n",
      "|Female|76.0|           0|            0|        No Info|27.32|        5.0|                160|       0|5776.0|\n",
      "|  Male|78.0|           0|            0|        No Info|27.32|        6.6|                126|       0|6084.0|\n",
      "|  Male|15.0|           0|            0|          never|30.36|        6.1|                200|       0| 225.0|\n",
      "|Female|42.0|           0|            0|          never|24.48|        5.7|                158|       0|1764.0|\n",
      "|Female|42.0|           0|            0|        No Info|27.32|        5.7|                 80|       0|1764.0|\n",
      "|  Male|37.0|           0|            0|           ever|25.72|        3.5|                159|       0|1369.0|\n",
      "+------+----+------------+-------------+---------------+-----+-----------+-------------------+--------+------+\n",
      "only showing top 20 rows\n",
      "\n"
     ]
    }
   ],
   "source": [
    "diabetesPrediction.withColumn('age2',diabetesPrediction.age**2).show()"
   ]
  },
  {
   "cell_type": "markdown",
   "id": "61eb7b4d",
   "metadata": {},
   "source": [
    "### As you can see age2 column is added to the end of the dataframe. "
   ]
  },
  {
   "cell_type": "markdown",
   "id": "4f61de45",
   "metadata": {},
   "source": [
    "### To filter columns by the necessary conditions on columns, we can use either .filter() or .where() methods. "
   ]
  },
  {
   "cell_type": "code",
   "execution_count": 12,
   "id": "0c955fbe",
   "metadata": {},
   "outputs": [
    {
     "name": "stdout",
     "output_type": "stream",
     "text": [
      "+------+----+------------+-------------+---------------+-----+-----------+-------------------+--------+\n",
      "|gender| age|hypertension|heart_disease|smoking_history|  bmi|HbA1c_level|blood_glucose_level|diabetes|\n",
      "+------+----+------------+-------------+---------------+-----+-----------+-------------------+--------+\n",
      "|  Male|28.0|           0|            0|          never|27.32|        5.7|                158|       0|\n",
      "|Female|32.0|           0|            0|          never|27.32|        5.0|                100|       0|\n",
      "|  Male|30.0|           0|            0|          never|33.76|        6.1|                126|       0|\n",
      "|Female|26.0|           0|            0|          never|21.22|        6.6|                200|       0|\n",
      "|Female|34.0|           0|            0|          never|56.43|        6.2|                200|       0|\n",
      "|Female|29.0|           0|            0|          never|19.95|        5.0|                 90|       0|\n",
      "|Female|26.0|           0|            0|        No Info|27.32|        4.0|                200|       0|\n",
      "|  Male|30.0|           0|            0|        No Info|27.32|        6.6|                140|       0|\n",
      "|Female|30.0|           0|            0|        current|27.32|        6.5|                158|       0|\n",
      "|Female|27.0|           0|            0|    not current|30.22|        5.7|                100|       0|\n",
      "|Female|30.0|           0|            0|          never|27.01|        6.2|                145|       0|\n",
      "|Female|26.0|           0|            0|          never|26.45|        5.7|                158|       0|\n",
      "|  Male|34.0|           0|            0|          never|31.16|        5.8|                 90|       0|\n",
      "|Female|30.0|           0|            0|        No Info|50.13|        6.0|                100|       0|\n",
      "|  Male|29.0|           0|            0|        current|27.32|        4.8|                158|       0|\n",
      "|  Male|27.0|           0|            0|        No Info|27.32|        6.2|                 90|       0|\n",
      "|  Male|28.0|           0|            0|          never|27.63|        6.2|                130|       0|\n",
      "|  Male|27.0|           0|            0|        No Info|20.41|        6.6|                159|       0|\n",
      "|Female|28.0|           0|            0|    not current|26.79|        5.8|                200|       0|\n",
      "|Female|34.0|           0|            0|          never|27.32|        6.0|                160|       0|\n",
      "+------+----+------------+-------------+---------------+-----+-----------+-------------------+--------+\n",
      "only showing top 20 rows\n",
      "\n"
     ]
    }
   ],
   "source": [
    "diabetesPrediction.filter( (diabetesPrediction.age > 25) & (diabetesPrediction.age<35)).show()\n"
   ]
  },
  {
   "cell_type": "code",
   "execution_count": 13,
   "id": "f7917363",
   "metadata": {},
   "outputs": [
    {
     "name": "stdout",
     "output_type": "stream",
     "text": [
      "+------+----+------------+-------------+---------------+-----+-----------+-------------------+--------+\n",
      "|gender| age|hypertension|heart_disease|smoking_history|  bmi|HbA1c_level|blood_glucose_level|diabetes|\n",
      "+------+----+------------+-------------+---------------+-----+-----------+-------------------+--------+\n",
      "|  Male|28.0|           0|            0|          never|27.32|        5.7|                158|       0|\n",
      "|Female|32.0|           0|            0|          never|27.32|        5.0|                100|       0|\n",
      "|  Male|30.0|           0|            0|          never|33.76|        6.1|                126|       0|\n",
      "|Female|26.0|           0|            0|          never|21.22|        6.6|                200|       0|\n",
      "|Female|34.0|           0|            0|          never|56.43|        6.2|                200|       0|\n",
      "|Female|29.0|           0|            0|          never|19.95|        5.0|                 90|       0|\n",
      "|Female|26.0|           0|            0|        No Info|27.32|        4.0|                200|       0|\n",
      "|  Male|30.0|           0|            0|        No Info|27.32|        6.6|                140|       0|\n",
      "|Female|30.0|           0|            0|        current|27.32|        6.5|                158|       0|\n",
      "|Female|27.0|           0|            0|    not current|30.22|        5.7|                100|       0|\n",
      "|Female|30.0|           0|            0|          never|27.01|        6.2|                145|       0|\n",
      "|Female|26.0|           0|            0|          never|26.45|        5.7|                158|       0|\n",
      "|  Male|34.0|           0|            0|          never|31.16|        5.8|                 90|       0|\n",
      "|Female|30.0|           0|            0|        No Info|50.13|        6.0|                100|       0|\n",
      "|  Male|29.0|           0|            0|        current|27.32|        4.8|                158|       0|\n",
      "|  Male|27.0|           0|            0|        No Info|27.32|        6.2|                 90|       0|\n",
      "|  Male|28.0|           0|            0|          never|27.63|        6.2|                130|       0|\n",
      "|  Male|27.0|           0|            0|        No Info|20.41|        6.6|                159|       0|\n",
      "|Female|28.0|           0|            0|    not current|26.79|        5.8|                200|       0|\n",
      "|Female|34.0|           0|            0|          never|27.32|        6.0|                160|       0|\n",
      "+------+----+------------+-------------+---------------+-----+-----------+-------------------+--------+\n",
      "only showing top 20 rows\n",
      "\n"
     ]
    }
   ],
   "source": [
    "diabetesPrediction.where( (diabetesPrediction.age > 25) & (diabetesPrediction.age<35)).show()"
   ]
  },
  {
   "cell_type": "markdown",
   "id": "a9e1e845",
   "metadata": {},
   "source": [
    "### Here, only rows or entities with ages >25 and ages < 35 are shown. "
   ]
  },
  {
   "cell_type": "markdown",
   "id": "08254623",
   "metadata": {},
   "source": [
    "### We can merge data frames in spark by using the union() method. "
   ]
  },
  {
   "cell_type": "code",
   "execution_count": 14,
   "id": "912285e2",
   "metadata": {},
   "outputs": [],
   "source": [
    "df1 = spark.createDataFrame([(\"Alice\", 1), (\"Bob\", 2)], [\"name\", \"id\"])\n",
    "df2 = spark.createDataFrame([(3, \"Charlie\"), (4, \"Dave\")], [\"id\", \"name\"])\n",
    "union_df = df1.union(df2)"
   ]
  },
  {
   "cell_type": "markdown",
   "id": "be0664d8",
   "metadata": {},
   "source": [
    "### We can use also SQL queries to operate on spark dataframes."
   ]
  },
  {
   "cell_type": "markdown",
   "id": "bbee4a16",
   "metadata": {},
   "source": [
    "### We can select all rows from a DataFrame by using a placeholder like {table1} in the query and passing the DataFrame using keyword arguments, such as table1=diabetesPrediction."
   ]
  },
  {
   "cell_type": "code",
   "execution_count": 15,
   "id": "58ab88ab",
   "metadata": {},
   "outputs": [
    {
     "name": "stdout",
     "output_type": "stream",
     "text": [
      "+------+----+------------+-------------+---------------+-----+-----------+-------------------+--------+\n",
      "|gender| age|hypertension|heart_disease|smoking_history|  bmi|HbA1c_level|blood_glucose_level|diabetes|\n",
      "+------+----+------------+-------------+---------------+-----+-----------+-------------------+--------+\n",
      "|Female|80.0|           0|            1|          never|25.19|        6.6|                140|       0|\n",
      "|Female|54.0|           0|            0|        No Info|27.32|        6.6|                 80|       0|\n",
      "|  Male|28.0|           0|            0|          never|27.32|        5.7|                158|       0|\n",
      "|Female|36.0|           0|            0|        current|23.45|        5.0|                155|       0|\n",
      "|  Male|76.0|           1|            1|        current|20.14|        4.8|                155|       0|\n",
      "|Female|20.0|           0|            0|          never|27.32|        6.6|                 85|       0|\n",
      "|Female|44.0|           0|            0|          never|19.31|        6.5|                200|       1|\n",
      "|Female|79.0|           0|            0|        No Info|23.86|        5.7|                 85|       0|\n",
      "|  Male|42.0|           0|            0|          never|33.64|        4.8|                145|       0|\n",
      "|Female|32.0|           0|            0|          never|27.32|        5.0|                100|       0|\n",
      "|Female|53.0|           0|            0|          never|27.32|        6.1|                 85|       0|\n",
      "|Female|54.0|           0|            0|         former| 54.7|        6.0|                100|       0|\n",
      "|Female|78.0|           0|            0|         former|36.05|        5.0|                130|       0|\n",
      "|Female|67.0|           0|            0|          never|25.69|        5.8|                200|       0|\n",
      "|Female|76.0|           0|            0|        No Info|27.32|        5.0|                160|       0|\n",
      "|  Male|78.0|           0|            0|        No Info|27.32|        6.6|                126|       0|\n",
      "|  Male|15.0|           0|            0|          never|30.36|        6.1|                200|       0|\n",
      "|Female|42.0|           0|            0|          never|24.48|        5.7|                158|       0|\n",
      "|Female|42.0|           0|            0|        No Info|27.32|        5.7|                 80|       0|\n",
      "|  Male|37.0|           0|            0|           ever|25.72|        3.5|                159|       0|\n",
      "+------+----+------------+-------------+---------------+-----+-----------+-------------------+--------+\n",
      "only showing top 20 rows\n",
      "\n"
     ]
    }
   ],
   "source": [
    "spark.sql('SELECT * FROM {table1}',table1=diabetesPrediction).show()"
   ]
  },
  {
   "cell_type": "markdown",
   "id": "962ea237",
   "metadata": {},
   "source": [
    "### The following query displays the age column"
   ]
  },
  {
   "cell_type": "code",
   "execution_count": 16,
   "id": "1755f20a",
   "metadata": {},
   "outputs": [
    {
     "name": "stdout",
     "output_type": "stream",
     "text": [
      "+----+\n",
      "| age|\n",
      "+----+\n",
      "|80.0|\n",
      "|54.0|\n",
      "|28.0|\n",
      "|36.0|\n",
      "|76.0|\n",
      "|20.0|\n",
      "|44.0|\n",
      "|79.0|\n",
      "|42.0|\n",
      "|32.0|\n",
      "|53.0|\n",
      "|54.0|\n",
      "|78.0|\n",
      "|67.0|\n",
      "|76.0|\n",
      "|78.0|\n",
      "|15.0|\n",
      "|42.0|\n",
      "|42.0|\n",
      "|37.0|\n",
      "+----+\n",
      "only showing top 20 rows\n",
      "\n"
     ]
    }
   ],
   "source": [
    "spark.sql(\"SELECT {table1}.age FROM {table1}\",table1=diabetesPrediction).show()"
   ]
  },
  {
   "cell_type": "markdown",
   "id": "f66e6055",
   "metadata": {},
   "source": [
    "### The following query displayes the age column. This difference from the previous query is that it demonstrates how table alias can be used in pyspark SQL."
   ]
  },
  {
   "cell_type": "code",
   "execution_count": 17,
   "id": "3115643f",
   "metadata": {},
   "outputs": [
    {
     "name": "stdout",
     "output_type": "stream",
     "text": [
      "+----+\n",
      "| age|\n",
      "+----+\n",
      "|80.0|\n",
      "|54.0|\n",
      "|28.0|\n",
      "|36.0|\n",
      "|76.0|\n",
      "|20.0|\n",
      "|44.0|\n",
      "|79.0|\n",
      "|42.0|\n",
      "|32.0|\n",
      "|53.0|\n",
      "|54.0|\n",
      "|78.0|\n",
      "|67.0|\n",
      "|76.0|\n",
      "|78.0|\n",
      "|15.0|\n",
      "|42.0|\n",
      "|42.0|\n",
      "|37.0|\n",
      "+----+\n",
      "only showing top 20 rows\n",
      "\n"
     ]
    }
   ],
   "source": [
    "spark.sql(\"SELECT t1.age FROM {table1} t1\",table1=diabetesPrediction).show()"
   ]
  },
  {
   "cell_type": "code",
   "execution_count": 18,
   "id": "1bd51bf3",
   "metadata": {},
   "outputs": [
    {
     "name": "stdout",
     "output_type": "stream",
     "text": [
      "+----+\n",
      "| age|\n",
      "+----+\n",
      "|80.0|\n",
      "|54.0|\n",
      "|28.0|\n",
      "|36.0|\n",
      "|76.0|\n",
      "|44.0|\n",
      "|79.0|\n",
      "|42.0|\n",
      "|32.0|\n",
      "|53.0|\n",
      "|54.0|\n",
      "|78.0|\n",
      "|67.0|\n",
      "|76.0|\n",
      "|78.0|\n",
      "|42.0|\n",
      "|42.0|\n",
      "|37.0|\n",
      "|40.0|\n",
      "|69.0|\n",
      "+----+\n",
      "only showing top 20 rows\n",
      "\n"
     ]
    }
   ],
   "source": [
    "ageFilter = 25\n",
    "spark.sql(\"SELECT t1.age FROM {table1} t1 WHERE t1.age > {ageFilter}\",table1=diabetesPrediction,ageFilter=ageFilter).show()"
   ]
  },
  {
   "cell_type": "code",
   "execution_count": 19,
   "id": "f23131ee",
   "metadata": {},
   "outputs": [
    {
     "name": "stdout",
     "output_type": "stream",
     "text": [
      "+----+\n",
      "| age|\n",
      "+----+\n",
      "|80.0|\n",
      "|54.0|\n",
      "|28.0|\n",
      "|36.0|\n",
      "|76.0|\n",
      "|20.0|\n",
      "|44.0|\n",
      "|79.0|\n",
      "|42.0|\n",
      "|32.0|\n",
      "|53.0|\n",
      "|54.0|\n",
      "|78.0|\n",
      "|67.0|\n",
      "|76.0|\n",
      "|78.0|\n",
      "|15.0|\n",
      "|42.0|\n",
      "|42.0|\n",
      "|37.0|\n",
      "+----+\n",
      "only showing top 20 rows\n",
      "\n"
     ]
    }
   ],
   "source": [
    "spark.sql(\"SELECT t1.age FROM {table1} t1 WHERE t1.age > :ageFilter\",{\"ageFilter\":5},table1=diabetesPrediction).show()"
   ]
  },
  {
   "cell_type": "code",
   "execution_count": 20,
   "id": "1b030032",
   "metadata": {},
   "outputs": [
    {
     "name": "stdout",
     "output_type": "stream",
     "text": [
      "+----+\n",
      "| age|\n",
      "+----+\n",
      "|80.0|\n",
      "|76.0|\n",
      "|79.0|\n",
      "|78.0|\n",
      "|76.0|\n",
      "|78.0|\n",
      "|72.0|\n",
      "|76.0|\n",
      "|73.0|\n",
      "|77.0|\n",
      "|74.0|\n",
      "|76.0|\n",
      "|80.0|\n",
      "|79.0|\n",
      "|74.0|\n",
      "|80.0|\n",
      "|80.0|\n",
      "|80.0|\n",
      "|75.0|\n",
      "|77.0|\n",
      "+----+\n",
      "only showing top 20 rows\n",
      "\n"
     ]
    }
   ],
   "source": [
    "spark.sql(\"SELECT t1.age FROM {table1} t1 WHERE t1.age > ? and ? < t1.age\",args=[25,70],table1=diabetesPrediction).show()"
   ]
  },
  {
   "cell_type": "code",
   "execution_count": 21,
   "id": "a29e79c9",
   "metadata": {},
   "outputs": [
    {
     "name": "stdout",
     "output_type": "stream",
     "text": [
      "+------+------------------+-----------------+------------------+------------------+------------------+------------------+\n",
      "|gender|           No Info|          current|              ever|            former|             never|       not current|\n",
      "+------+------------------+-----------------+------------------+------------------+------------------+------------------+\n",
      "|Female| 25.64423857868251|28.36533807829256| 28.76907059874885|29.498684541265742|28.101528706982418|28.285589062101383|\n",
      "| Other|26.804999999999996|              0.0|             27.32|               0.0| 33.61333333333334|25.480000000000004|\n",
      "|  Male|24.975211669772523| 28.5138741721861|28.753308781869666|29.748034076016317|28.109054242003985|28.089014251781567|\n",
      "+------+------------------+-----------------+------------------+------------------+------------------+------------------+\n",
      "\n"
     ]
    }
   ],
   "source": [
    "diabetesPrediction.groupBy(\"gender\").pivot(\"smoking_history\").agg(avg(\"bmi\")).fillna(0).show()\n"
   ]
  },
  {
   "cell_type": "code",
   "execution_count": 22,
   "id": "da8749a2",
   "metadata": {},
   "outputs": [
    {
     "name": "stdout",
     "output_type": "stream",
     "text": [
      "+------+------------------+------------------+\n",
      "|gender|           No Info|             never|\n",
      "+------+------------------+------------------+\n",
      "|Female| 25.64423857868251|28.101528706982418|\n",
      "| Other|26.804999999999996| 33.61333333333334|\n",
      "|  Male|24.975211669772523|28.109054242003985|\n",
      "+------+------------------+------------------+\n",
      "\n"
     ]
    }
   ],
   "source": [
    "diabetesPrediction.groupBy(\"gender\").pivot(\"smoking_history\",[\"No Info\",\"never\"]).agg(avg(\"bmi\")).fillna(0).show()\n"
   ]
  },
  {
   "cell_type": "code",
   "execution_count": 23,
   "id": "4fb65543",
   "metadata": {},
   "outputs": [
    {
     "name": "stderr",
     "output_type": "stream",
     "text": [
      "[Stage 43:==========================================================(1 + 0) / 1]\r"
     ]
    },
    {
     "name": "stdout",
     "output_type": "stream",
     "text": [
      "+---------------+-----+\n",
      "|smoking_history|count|\n",
      "+---------------+-----+\n",
      "|    not current| 6447|\n",
      "|         former| 9352|\n",
      "|        No Info|35816|\n",
      "|        current| 9286|\n",
      "|          never|35095|\n",
      "|           ever| 4004|\n",
      "+---------------+-----+\n",
      "\n"
     ]
    },
    {
     "name": "stderr",
     "output_type": "stream",
     "text": [
      "                                                                                \r"
     ]
    }
   ],
   "source": [
    "diabetesPrediction.groupBy(\"smoking_history\").agg(count(\"*\").alias(\"count\")).show()"
   ]
  }
 ],
 "metadata": {
  "kernelspec": {
   "display_name": "pyspark-showcase",
   "language": "python",
   "name": "python3"
  },
  "language_info": {
   "codemirror_mode": {
    "name": "ipython",
    "version": 3
   },
   "file_extension": ".py",
   "mimetype": "text/x-python",
   "name": "python",
   "nbconvert_exporter": "python",
   "pygments_lexer": "ipython3",
   "version": "3.10.10"
  }
 },
 "nbformat": 4,
 "nbformat_minor": 5
}
