{
 "cells": [
  {
   "cell_type": "code",
   "execution_count": 1,
   "id": "486b9f23",
   "metadata": {},
   "outputs": [],
   "source": [
    "import pyspark.pandas as ps\n",
    "from pyspark.sql import SparkSession\n",
    "from pyspark.sql.functions import *"
   ]
  },
  {
   "cell_type": "code",
   "execution_count": 2,
   "id": "a77f8288",
   "metadata": {},
   "outputs": [],
   "source": [
    "spark = SparkSession.builder.getOrCreate()\n"
   ]
  },
  {
   "cell_type": "markdown",
   "id": "9b9780c5",
   "metadata": {},
   "source": [
    "### Accessing the diabetes prediction dataset CSV file using the spard.read.csv method."
   ]
  },
  {
   "cell_type": "code",
   "execution_count": 3,
   "id": "711e503f",
   "metadata": {},
   "outputs": [],
   "source": [
    "diabetesPrediction = spark.read.csv('diabetes_prediction_dataset.csv', header=True)\n",
    "diabetesPrediction"
   ]
  },
  {
   "cell_type": "markdown",
   "id": "9ec6015e",
   "metadata": {},
   "source": [
    "### As you can see in the output above, you will not be able to see a preview of the dataframe when you call it. It is because pySpark follows a lazy evaluation. Action methods on the spark dataframe only will trigger the computation. Some of the most used action methods are .show() and .collect()"
   ]
  },
  {
   "cell_type": "code",
   "execution_count": 4,
   "id": "40ce2aff",
   "metadata": {},
   "outputs": [],
   "source": [
    "diabetesPrediction.show()"
   ]
  },
  {
   "cell_type": "markdown",
   "id": "01dc583e",
   "metadata": {},
   "source": [
    "### As you can see in the above output, the .show() method triggered computation on the spark dataframe and is displaying the top 20 rows. "
   ]
  },
  {
   "cell_type": "markdown",
   "id": "75ed1966",
   "metadata": {},
   "source": [
    "### To print the schema of a spark data frame, we should use the .printSchema() method."
   ]
  },
  {
   "cell_type": "code",
   "execution_count": 5,
   "id": "c01ad262",
   "metadata": {},
   "outputs": [],
   "source": [
    "diabetesPrediction.printSchema()"
   ]
  },
  {
   "cell_type": "markdown",
   "id": "1edd2b39",
   "metadata": {},
   "source": [
    "### To get the summary statistics out of a spark dataframe, we should call .describe() to create a summary statistics dataframe and .show() to trigger the computation. "
   ]
  },
  {
   "cell_type": "code",
   "execution_count": 6,
   "id": "acc409c4",
   "metadata": {},
   "outputs": [],
   "source": [
    "diabetesPrediction.describe().show()"
   ]
  },
  {
   "cell_type": "markdown",
   "id": "f72d2091",
   "metadata": {},
   "source": [
    "### The .show() method on the summary statistics dataframe is visually messy. If you want it to look like the basic pandas dataframe when called, we should use .pandas_api(). This method will convert the spark dataframe to pandas-on-spark dataframe. This type of dataframe is very similar to the everyday pandas dataframe. However, the former is distributed and the latter is on a single machine. "
   ]
  },
  {
   "cell_type": "code",
   "execution_count": 7,
   "id": "6e92a0f8",
   "metadata": {},
   "outputs": [],
   "source": [
    "diabetesPrediction.describe().pandas_api()"
   ]
  },
  {
   "cell_type": "markdown",
   "id": "d5c90b16",
   "metadata": {},
   "source": [
    "### To group by a column's values and apply a aggregate function to get a measure, we should use .groupby(\"columnName\").agg({\"columnName\":\"aggregationFunction\"}) to get the desired result."
   ]
  },
  {
   "cell_type": "markdown",
   "id": "daf3cca1",
   "metadata": {},
   "source": [
    "### Here, we want to calcuate the average age of each gender. We should apply groupby on the gender column and apply average aggregation function on the age column. "
   ]
  },
  {
   "cell_type": "code",
   "execution_count": 8,
   "id": "a61818ba",
   "metadata": {},
   "outputs": [],
   "source": [
    "genderAvgAge = diabetesPrediction.groupBy(diabetesPrediction.gender).agg({'age':'mean'})\n",
    "genderAvgAge.show()"
   ]
  },
  {
   "cell_type": "markdown",
   "id": "f36c0e19",
   "metadata": {},
   "source": [
    "### The average age of a female is 42.5 , while the average age of a male is 29.5"
   ]
  },
  {
   "cell_type": "markdown",
   "id": "1c116cd5",
   "metadata": {},
   "source": [
    "### Getting the columns in a pyspark dataframe is similar to getting columns in a pandas dataframe. We should use the .columns property, and it will return a list of columns."
   ]
  },
  {
   "cell_type": "code",
   "execution_count": 9,
   "id": "1dbd28ae",
   "metadata": {
    "scrolled": true
   },
   "outputs": [],
   "source": [
    "diabetesPrediction.columns"
   ]
  },
  {
   "cell_type": "markdown",
   "id": "2230a285",
   "metadata": {},
   "source": [
    "### To drop duplicates, we can drop use the .dropduplicates() method similar to th"
   ]
  },
  {
   "cell_type": "markdown",
   "id": "bffbce0b",
   "metadata": {},
   "source": [
    "### To get the null values in the spark dataframe, we should use a .isnull method inside a .filter method to get the count of null values. "
   ]
  },
  {
   "cell_type": "code",
   "execution_count": null,
   "id": "44d5ac8f",
   "metadata": {},
   "outputs": [],
   "source": [
    "diabetesPrediction.filter(col(\"age\").isNull()).count()\n"
   ]
  }
 ],
 "metadata": {
  "kernelspec": {
   "display_name": "pyspark-showcase-1",
   "language": "python",
   "name": "pyspark-showcase-1"
  },
  "language_info": {
   "codemirror_mode": {
    "name": "ipython",
    "version": 3
   },
   "file_extension": ".py",
   "mimetype": "text/x-python",
   "name": "python",
   "nbconvert_exporter": "python",
   "pygments_lexer": "ipython3",
   "version": "3.10.10"
  }
 },
 "nbformat": 4,
 "nbformat_minor": 5
}
