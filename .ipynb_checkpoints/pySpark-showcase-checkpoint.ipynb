{
 "cells": [
  {
   "cell_type": "code",
   "execution_count": 1,
   "id": "03e41d81",
   "metadata": {},
   "outputs": [],
   "source": [
    "# new jupyter notebook for pyspark showcase"
   ]
  },
  {
   "cell_type": "code",
   "execution_count": null,
   "id": "76646cca",
   "metadata": {},
   "outputs": [],
   "source": []
  }
 ],
 "metadata": {
  "kernelspec": {
   "display_name": "Python 3 (ipykernel)",
   "language": "python",
   "name": "python3"
  },
  "language_info": {
   "codemirror_mode": {
    "name": "ipython",
    "version": 3
   },
   "file_extension": ".py",
   "mimetype": "text/x-python",
   "name": "python",
   "nbconvert_exporter": "python",
   "pygments_lexer": "ipython3",
   "version": "3.9.6"
  }
 },
 "nbformat": 4,
 "nbformat_minor": 5
}
