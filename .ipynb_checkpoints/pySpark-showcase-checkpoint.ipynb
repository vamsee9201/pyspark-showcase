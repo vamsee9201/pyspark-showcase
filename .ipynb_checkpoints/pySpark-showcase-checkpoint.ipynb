{
 "cells": [
  {
   "cell_type": "code",
   "execution_count": 1,
   "id": "486b9f23",
   "metadata": {},
   "outputs": [
    {
     "name": "stderr",
     "output_type": "stream",
     "text": [
      "/Users/vamseekrishna/Desktop/pyspark-showcase/pyspark-showcase/lib/python3.10/site-packages/pyspark/pandas/__init__.py:50: UserWarning: 'PYARROW_IGNORE_TIMEZONE' environment variable was not set. It is required to set this environment variable to '1' in both driver and executor sides if you use pyarrow>=2.0.0. pandas-on-Spark will set it for you but it does not work if there is a Spark context already launched.\n",
      "  warnings.warn(\n"
     ]
    }
   ],
   "source": [
    "import pyspark.pandas as ps\n",
    "from pyspark.sql import SparkSession\n",
    "from pyspark.sql.functions import *"
   ]
  },
  {
   "cell_type": "code",
   "execution_count": 2,
   "id": "a77f8288",
   "metadata": {},
   "outputs": [
    {
     "name": "stderr",
     "output_type": "stream",
     "text": [
      "Setting default log level to \"WARN\".\n",
      "To adjust logging level use sc.setLogLevel(newLevel). For SparkR, use setLogLevel(newLevel).\n",
      "24/03/22 15:33:42 WARN NativeCodeLoader: Unable to load native-hadoop library for your platform... using builtin-java classes where applicable\n"
     ]
    }
   ],
   "source": [
    "spark = SparkSession.builder.getOrCreate()\n"
   ]
  },
  {
   "cell_type": "markdown",
   "id": "459f96d6",
   "metadata": {},
   "source": [
    "### Accessing the diabetes prediction dataset CSV file using the spard.read.csv method."
   ]
  },
  {
   "cell_type": "code",
   "execution_count": 6,
   "id": "979a6b41",
   "metadata": {},
   "outputs": [
    {
     "data": {
      "text/plain": [
       "DataFrame[gender: string, age: string, hypertension: string, heart_disease: string, smoking_history: string, bmi: string, HbA1c_level: string, blood_glucose_level: string, diabetes: string]"
      ]
     },
     "execution_count": 6,
     "metadata": {},
     "output_type": "execute_result"
    }
   ],
   "source": [
    "diabetesPrediction = spark.read.csv('diabetes_prediction_dataset.csv', header=True)\n",
    "diabetesPrediction"
   ]
  },
  {
   "cell_type": "markdown",
   "id": "65c55d0a",
   "metadata": {},
   "source": [
    "### As you can see in the output above, you will not be able to see a preview of the dataframe when you call it. It is because pySpark follows a lazy evaluation. Action methods on the spark dataframe only will trigger the computation. Some of the most used action methods are .show() and .collect()"
   ]
  },
  {
   "cell_type": "code",
   "execution_count": 7,
   "id": "5ab67cca",
   "metadata": {},
   "outputs": [
    {
     "name": "stdout",
     "output_type": "stream",
     "text": [
      "+------+----+------------+-------------+---------------+-----+-----------+-------------------+--------+\n",
      "|gender| age|hypertension|heart_disease|smoking_history|  bmi|HbA1c_level|blood_glucose_level|diabetes|\n",
      "+------+----+------------+-------------+---------------+-----+-----------+-------------------+--------+\n",
      "|Female|80.0|           0|            1|          never|25.19|        6.6|                140|       0|\n",
      "|Female|54.0|           0|            0|        No Info|27.32|        6.6|                 80|       0|\n",
      "|  Male|28.0|           0|            0|          never|27.32|        5.7|                158|       0|\n",
      "|Female|36.0|           0|            0|        current|23.45|        5.0|                155|       0|\n",
      "|  Male|76.0|           1|            1|        current|20.14|        4.8|                155|       0|\n",
      "|Female|20.0|           0|            0|          never|27.32|        6.6|                 85|       0|\n",
      "|Female|44.0|           0|            0|          never|19.31|        6.5|                200|       1|\n",
      "|Female|79.0|           0|            0|        No Info|23.86|        5.7|                 85|       0|\n",
      "|  Male|42.0|           0|            0|          never|33.64|        4.8|                145|       0|\n",
      "|Female|32.0|           0|            0|          never|27.32|        5.0|                100|       0|\n",
      "|Female|53.0|           0|            0|          never|27.32|        6.1|                 85|       0|\n",
      "|Female|54.0|           0|            0|         former| 54.7|        6.0|                100|       0|\n",
      "|Female|78.0|           0|            0|         former|36.05|        5.0|                130|       0|\n",
      "|Female|67.0|           0|            0|          never|25.69|        5.8|                200|       0|\n",
      "|Female|76.0|           0|            0|        No Info|27.32|        5.0|                160|       0|\n",
      "|  Male|78.0|           0|            0|        No Info|27.32|        6.6|                126|       0|\n",
      "|  Male|15.0|           0|            0|          never|30.36|        6.1|                200|       0|\n",
      "|Female|42.0|           0|            0|          never|24.48|        5.7|                158|       0|\n",
      "|Female|42.0|           0|            0|        No Info|27.32|        5.7|                 80|       0|\n",
      "|  Male|37.0|           0|            0|           ever|25.72|        3.5|                159|       0|\n",
      "+------+----+------------+-------------+---------------+-----+-----------+-------------------+--------+\n",
      "only showing top 20 rows\n",
      "\n"
     ]
    }
   ],
   "source": [
    "diabetesPrediction.show()"
   ]
  },
  {
   "cell_type": "markdown",
   "id": "c72c5a16",
   "metadata": {},
   "source": [
    "### As you can see in the above output, the .show() method triggered computation on the spark dataframe and is displaying the top 20 rows. "
   ]
  },
  {
   "cell_type": "code",
   "execution_count": null,
   "id": "9df545b6",
   "metadata": {},
   "outputs": [],
   "source": []
  }
 ],
 "metadata": {
  "kernelspec": {
   "display_name": "pyspark-showcase-1",
   "language": "python",
   "name": "pyspark-showcase-1"
  },
  "language_info": {
   "codemirror_mode": {
    "name": "ipython",
    "version": 3
   },
   "file_extension": ".py",
   "mimetype": "text/x-python",
   "name": "python",
   "nbconvert_exporter": "python",
   "pygments_lexer": "ipython3",
   "version": "3.10.10"
  }
 },
 "nbformat": 4,
 "nbformat_minor": 5
}
